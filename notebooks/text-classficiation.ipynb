{
 "cells": [
  {
   "cell_type": "code",
   "execution_count": 1,
   "metadata": {},
   "outputs": [],
   "source": [
    "import pandas as pd\n",
    "import os\n",
    "\n",
    "# Path to the directory and CSV file using os.path.join for OS independence\n",
    "base_dir = os.path.join('..', 'data', 'raw')\n",
    "recordings_dir = os.path.join(base_dir, 'recordings')\n",
    "csv_file_path = os.path.join(base_dir, 'overview-of-recordings.csv')\n",
    "\n",
    "# Reading the CSV file with error handling\n",
    "try:\n",
    "    data = pd.read_csv(csv_file_path)\n",
    "    data = data[['phrase','prompt']]\n",
    "except FileNotFoundError:\n",
    "    print(\"CSV file not found at the specified path. Please check the path and try again.\")\n",
    "except pd.errors.EmptyDataError:\n",
    "    print(\"CSV file is empty. Please check the file content.\")\n",
    "except pd.errors.ParserError:\n",
    "    print(\"Error parsing CSV. Please check the CSV format.\")"
   ]
  },
  {
   "cell_type": "code",
   "execution_count": 2,
   "metadata": {},
   "outputs": [
    {
     "data": {
      "text/html": [
       "<div>\n",
       "<style scoped>\n",
       "    .dataframe tbody tr th:only-of-type {\n",
       "        vertical-align: middle;\n",
       "    }\n",
       "\n",
       "    .dataframe tbody tr th {\n",
       "        vertical-align: top;\n",
       "    }\n",
       "\n",
       "    .dataframe thead th {\n",
       "        text-align: right;\n",
       "    }\n",
       "</style>\n",
       "<table border=\"1\" class=\"dataframe\">\n",
       "  <thead>\n",
       "    <tr style=\"text-align: right;\">\n",
       "      <th></th>\n",
       "      <th>phrase</th>\n",
       "      <th>prompt</th>\n",
       "    </tr>\n",
       "  </thead>\n",
       "  <tbody>\n",
       "    <tr>\n",
       "      <th>0</th>\n",
       "      <td>When I remember her I feel down</td>\n",
       "      <td>Emotional pain</td>\n",
       "    </tr>\n",
       "    <tr>\n",
       "      <th>1</th>\n",
       "      <td>When I carry heavy things I feel like breaking...</td>\n",
       "      <td>Hair falling out</td>\n",
       "    </tr>\n",
       "    <tr>\n",
       "      <th>2</th>\n",
       "      <td>there is too much pain when i move my arm</td>\n",
       "      <td>Heart hurts</td>\n",
       "    </tr>\n",
       "    <tr>\n",
       "      <th>3</th>\n",
       "      <td>My son had his lip pierced and it is swollen a...</td>\n",
       "      <td>Infected wound</td>\n",
       "    </tr>\n",
       "    <tr>\n",
       "      <th>4</th>\n",
       "      <td>My muscles in my lower back are aching</td>\n",
       "      <td>Infected wound</td>\n",
       "    </tr>\n",
       "  </tbody>\n",
       "</table>\n",
       "</div>"
      ],
      "text/plain": [
       "                                              phrase            prompt\n",
       "0                    When I remember her I feel down    Emotional pain\n",
       "1  When I carry heavy things I feel like breaking...  Hair falling out\n",
       "2          there is too much pain when i move my arm       Heart hurts\n",
       "3  My son had his lip pierced and it is swollen a...    Infected wound\n",
       "4             My muscles in my lower back are aching    Infected wound"
      ]
     },
     "execution_count": 2,
     "metadata": {},
     "output_type": "execute_result"
    }
   ],
   "source": [
    "data.head()"
   ]
  },
  {
   "cell_type": "code",
   "execution_count": 3,
   "metadata": {},
   "outputs": [
    {
     "name": "stdout",
     "output_type": "stream",
     "text": [
      "Number of classes: 25\n"
     ]
    }
   ],
   "source": [
    "#Number of classes\n",
    "num_classes = len(data['prompt'].unique())\n",
    "print(f\"Number of classes: {num_classes}\")"
   ]
  },
  {
   "cell_type": "code",
   "execution_count": 4,
   "metadata": {},
   "outputs": [
    {
     "name": "stdout",
     "output_type": "stream",
     "text": [
      "Max length of the phrases: 155\n"
     ]
    }
   ],
   "source": [
    "# Get max len of the phrases\n",
    "max_len = data['phrase'].str.len().max()\n",
    "print(f\"Max length of the phrases: {max_len}\")"
   ]
  },
  {
   "cell_type": "code",
   "execution_count": 5,
   "metadata": {},
   "outputs": [
    {
     "name": "stdout",
     "output_type": "stream",
     "text": [
      "Class Distribution:\n",
      " prompt\n",
      "Acne                  328\n",
      "Shoulder pain         320\n",
      "Joint pain            318\n",
      "Infected wound        306\n",
      "Knee pain             305\n",
      "Cough                 293\n",
      "Feeling dizzy         283\n",
      "Muscle pain           282\n",
      "Heart hurts           273\n",
      "Ear ache              270\n",
      "Hair falling out      264\n",
      "Head ache             263\n",
      "Feeling cold          263\n",
      "Skin issue            262\n",
      "Stomach ache          261\n",
      "Back pain             259\n",
      "Neck pain             251\n",
      "Internal pain         248\n",
      "Blurry vision         246\n",
      "Body feels weak       241\n",
      "Hard to breath        233\n",
      "Emotional pain        231\n",
      "Injury from sports    230\n",
      "Foot ache             223\n",
      "Open wound            208\n",
      "Name: count, dtype: int64\n",
      "\n",
      "Class Percentage:\n",
      " prompt\n",
      "Acne                  4.924186\n",
      "Shoulder pain         4.804083\n",
      "Joint pain            4.774058\n",
      "Infected wound        4.593905\n",
      "Knee pain             4.578892\n",
      "Cough                 4.398739\n",
      "Feeling dizzy         4.248611\n",
      "Muscle pain           4.233599\n",
      "Heart hurts           4.098484\n",
      "Ear ache              4.053445\n",
      "Hair falling out      3.963369\n",
      "Head ache             3.948356\n",
      "Feeling cold          3.948356\n",
      "Skin issue            3.933343\n",
      "Stomach ache          3.918331\n",
      "Back pain             3.888305\n",
      "Neck pain             3.768203\n",
      "Internal pain         3.723165\n",
      "Blurry vision         3.693139\n",
      "Body feels weak       3.618075\n",
      "Hard to breath        3.497973\n",
      "Emotional pain        3.467948\n",
      "Injury from sports    3.452935\n",
      "Foot ache             3.347846\n",
      "Open wound            3.122654\n",
      "Name: proportion, dtype: float64\n"
     ]
    }
   ],
   "source": [
    "# Calculate the frequency of each class\n",
    "class_distribution = data['prompt'].value_counts()\n",
    "\n",
    "# Calculate the percentage of each class\n",
    "class_percentage = data['prompt'].value_counts(normalize=True) * 100\n",
    "\n",
    "print(\"Class Distribution:\\n\", class_distribution)\n",
    "print(\"\\nClass Percentage:\\n\", class_percentage)"
   ]
  },
  {
   "cell_type": "code",
   "execution_count": 6,
   "metadata": {},
   "outputs": [
    {
     "data": {
      "image/png": "[encoded data removed]",
      "text/plain": [
       "<Figure size 1200x600 with 1 Axes>"
      ]
     },
     "metadata": {},
     "output_type": "display_data"
    }
   ],
   "source": [
    "# Visualize the class distribution\n",
    "import matplotlib.pyplot as plt\n",
    "import seaborn as sns\n",
    "\n",
    "plt.figure(figsize=(12, 6))\n",
    "sns.countplot(data['prompt'])\n",
    "plt.title('Class Distribution')\n",
    "plt.xlabel('Classes')\n",
    "plt.ylabel('Frequency')\n",
    "plt.xticks(rotation=90)\n",
    "plt.show()"
   ]
  },
  {
   "cell_type": "code",
   "execution_count": 7,
   "metadata": {},
   "outputs": [],
   "source": [
    "from transformers import BertTokenizer\n",
    "from torch.utils.data import DataLoader, Dataset\n",
    "import torch\n",
    "\n",
    "class TextDataset(Dataset):\n",
    "    def __init__(self, phrases, prompts, tokenizer, max_len):\n",
    "        self.tokenizer = tokenizer\n",
    "        self.text = phrases\n",
    "        self.labels = {label: idx for idx, label in enumerate(set(prompts))}\n",
    "        self.max_len = max_len\n",
    "\n",
    "    def __len__(self):\n",
    "        return len(self.text)\n",
    "\n",
    "    def __getitem__(self, item):\n",
    "        text = str(self.text[item])\n",
    "        label = self.labels[self.text[item]]\n",
    "\n",
    "        encoding = self.tokenizer.encode_plus(\n",
    "            text,\n",
    "            add_special_tokens=True,\n",
    "            max_length=self.max_len,\n",
    "            return_token_type_ids=False,\n",
    "            padding='max_length',\n",
    "            return_attention_mask=True,\n",
    "            return_tensors='pt',\n",
    "            truncation=True,\n",
    "        )\n",
    "\n",
    "        return {\n",
    "            'review_text': text,\n",
    "            'input_ids': encoding['input_ids'].flatten(),\n",
    "            'attention_mask': encoding['attention_mask'].flatten(),\n",
    "            'labels': torch.tensor(label, dtype=torch.long)\n",
    "        }\n",
    "\n",
    "# Load tokenizer\n",
    "tokenizer = BertTokenizer.from_pretrained('bert-base-uncased')"
   ]
  },
  {
   "cell_type": "code",
   "execution_count": 8,
   "metadata": {},
   "outputs": [
    {
     "name": "stderr",
     "output_type": "stream",
     "text": [
      "Some weights of BertForSequenceClassification were not initialized from the model checkpoint at bert-base-uncased and are newly initialized: ['classifier.bias', 'classifier.weight']\n",
      "You should probably TRAIN this model on a down-stream task to be able to use it for predictions and inference.\n"
     ]
    }
   ],
   "source": [
    "from transformers import BertForSequenceClassification\n",
    "\n",
    "model = BertForSequenceClassification.from_pretrained('bert-base-uncased', num_labels=num_classes)"
   ]
  },
  {
   "cell_type": "code",
   "execution_count": 9,
   "metadata": {},
   "outputs": [],
   "source": [
    "device = torch.device(\"cuda\" if torch.cuda.is_available() else \"cpu\")\n",
    "model = model.to(device)"
   ]
  },
  {
   "cell_type": "code",
   "execution_count": 10,
   "metadata": {},
   "outputs": [
    {
     "name": "stdout",
     "output_type": "stream",
     "text": [
      "Label Dictionary: {'Emotional pain': 0, 'Hair falling out': 1, 'Heart hurts': 2, 'Infected wound': 3, 'Foot ache': 4, 'Shoulder pain': 5, 'Injury from sports': 6, 'Skin issue': 7, 'Stomach ache': 8, 'Knee pain': 9, 'Joint pain': 10, 'Hard to breath': 11, 'Head ache': 12, 'Body feels weak': 13, 'Feeling dizzy': 14, 'Back pain': 15, 'Open wound': 16, 'Internal pain': 17, 'Blurry vision': 18, 'Acne': 19, 'Muscle pain': 20, 'Neck pain': 21, 'Cough': 22, 'Ear ache': 23, 'Feeling cold': 24}\n"
     ]
    }
   ],
   "source": [
    "# Define dataset class\n",
    "class TextClassificationDataset(Dataset):\n",
    "    def __init__(self, texts, labels, tokenizer, max_token_len=128):\n",
    "        self.tokenizer = tokenizer\n",
    "        self.texts = texts\n",
    "        self.labels = labels\n",
    "        self.max_token_len = max_token_len\n",
    "\n",
    "    def __len__(self):\n",
    "        return len(self.texts)\n",
    "\n",
    "    def __getitem__(self, idx):\n",
    "        text = self.texts[idx]\n",
    "        labels = self.labels[idx]\n",
    "\n",
    "        encoding = self.tokenizer.encode_plus(\n",
    "            text,\n",
    "            add_special_tokens=True,\n",
    "            max_length=self.max_token_len,\n",
    "            return_token_type_ids=False,\n",
    "            padding='max_length',\n",
    "            truncation=True,\n",
    "            return_attention_mask=True\n",
    "        )\n",
    "\n",
    "        return {\n",
    "            'input_ids': torch.tensor(encoding['input_ids'], dtype=torch.long),\n",
    "            'attention_mask': torch.tensor(encoding['attention_mask'], dtype=torch.long),\n",
    "            'labels': torch.tensor(labels, dtype=torch.long)\n",
    "        }\n",
    "\n",
    "# Map labels to integers\n",
    "label_dict = {label: i for i, label in enumerate(data['prompt'].unique())}\n",
    "data['labels'] = data['prompt'].map(label_dict)\n",
    "\n",
    "print(\"Label Dictionary:\", label_dict)\n",
    "\n",
    "# Create dataset\n",
    "dataset = TextClassificationDataset(\n",
    "    texts=data['phrase'].to_list(),\n",
    "    labels=data['labels'].to_list(),\n",
    "    tokenizer=tokenizer,\n",
    "    max_token_len=155\n",
    ")\n",
    "\n",
    "# Create train and test dataloaders\n",
    "\n",
    "from torch.utils.data import random_split\n",
    "\n",
    "train_size = int(0.8 * len(dataset))\n",
    "test_size = len(dataset) - train_size\n",
    "\n",
    "train_dataset, test_dataset = random_split(dataset, [train_size, test_size])\n",
    "\n",
    "train_loader = DataLoader(train_dataset, batch_size=16, shuffle=True)\n",
    "test_loader = DataLoader(test_dataset, batch_size=16, shuffle=False)"
   ]
  },
  {
   "cell_type": "code",
   "execution_count": 11,
   "metadata": {},
   "outputs": [
    {
     "name": "stderr",
     "output_type": "stream",
     "text": [
      "C:\\Users\\paris\\AppData\\Roaming\\Python\\Python311\\site-packages\\transformers\\optimization.py:521: FutureWarning: This implementation of AdamW is deprecated and will be removed in a future version. Use the PyTorch implementation torch.optim.AdamW instead, or set `no_deprecation_warning=True` to disable this warning\n",
      "  warnings.warn(\n"
     ]
    }
   ],
   "source": [
    "from transformers import AdamW, get_linear_schedule_with_warmup\n",
    "\n",
    "optimizer = AdamW(model.parameters(), lr=2e-5)\n",
    "\n",
    "# Total number of training steps is the number of batches * number of epochs\n",
    "total_steps = len(train_loader) * 3  # Training for 3 epochs\n",
    "\n",
    "scheduler = get_linear_schedule_with_warmup(optimizer, \n",
    "                                            num_warmup_steps=0, \n",
    "                                            num_training_steps=total_steps)\n"
   ]
  },
  {
   "cell_type": "code",
   "execution_count": 12,
   "metadata": {},
   "outputs": [
    {
     "name": "stderr",
     "output_type": "stream",
     "text": [
      "Epoch 1: 100%|██████████| 333/333 [00:21<00:00, 15.58it/s]\n"
     ]
    },
    {
     "name": "stdout",
     "output_type": "stream",
     "text": [
      "Epoch 1 finished. Avg Loss: 2.0502879644657397\n",
      "Test Accuracy: 0.9449404761904762\n"
     ]
    },
    {
     "name": "stderr",
     "output_type": "stream",
     "text": [
      "Epoch 2: 100%|██████████| 333/333 [00:21<00:00, 15.65it/s]\n"
     ]
    },
    {
     "name": "stdout",
     "output_type": "stream",
     "text": [
      "Epoch 2 finished. Avg Loss: 0.3913399880757561\n",
      "Test Accuracy: 0.9918154761904762\n"
     ]
    },
    {
     "name": "stderr",
     "output_type": "stream",
     "text": [
      "Epoch 3: 100%|██████████| 333/333 [00:21<00:00, 15.67it/s]\n"
     ]
    },
    {
     "name": "stdout",
     "output_type": "stream",
     "text": [
      "Epoch 3 finished. Avg Loss: 0.11766616190160001\n",
      "Test Accuracy: 0.9933035714285714\n"
     ]
    }
   ],
   "source": [
    "from tqdm import tqdm  # for displaying progress bar\n",
    "\n",
    "# Function to calculate the accuracy of predictions vs labels\n",
    "def flat_accuracy(preds, labels):\n",
    "    pred_flat = np.argmax(preds, axis=1).flatten()\n",
    "    labels_flat = labels.flatten()\n",
    "    return np.sum(pred_flat == labels_flat) / len(labels_flat)\n",
    "\n",
    "import numpy as np\n",
    "\n",
    "# Store the average loss after each epoch so we can plot them.\n",
    "loss_values, validation_loss_values = [], []\n",
    "\n",
    "for epoch in range(3):  # loop over the dataset multiple times\n",
    "    model.train()\n",
    "    total_loss = 0\n",
    "\n",
    "    for batch in tqdm(train_loader, desc=\"Epoch {:}\".format(epoch + 1)):\n",
    "        batch = {k: v.to(device) for k, v in batch.items()}  # Move batch to GPU\n",
    "\n",
    "        outputs = model(**batch)\n",
    "        loss = outputs.loss\n",
    "        total_loss += loss.item()\n",
    "\n",
    "        loss.backward()\n",
    "\n",
    "        torch.nn.utils.clip_grad_norm_(model.parameters(), 1.0)  # prevent exploding gradient problem\n",
    "\n",
    "        optimizer.step()\n",
    "        scheduler.step()\n",
    "        optimizer.zero_grad()\n",
    "\n",
    "    # Calculate the average loss over the training data.\n",
    "    avg_train_loss = total_loss / len(train_loader)\n",
    "    loss_values.append(avg_train_loss)\n",
    "    \n",
    "    print(f\"Epoch {epoch + 1} finished. Avg Loss: {avg_train_loss}\")\n",
    "\n",
    "    # Validation step\n",
    "    model.eval()\n",
    "    eval_loss, eval_accuracy = 0, 0\n",
    "    nb_eval_steps = 0\n",
    "\n",
    "    for batch in test_loader:\n",
    "        batch = {k: v.to(device) for k, v in batch.items()}\n",
    "        with torch.no_grad():    \n",
    "            outputs = model(**batch)\n",
    "\n",
    "        logits = outputs.logits\n",
    "        labels_ids = batch['labels'].detach().cpu().numpy()\n",
    "        tmp_eval_accuracy = flat_accuracy(logits.detach().cpu().numpy(), labels_ids)\n",
    "\n",
    "        eval_accuracy += tmp_eval_accuracy\n",
    "        nb_eval_steps += 1\n",
    "\n",
    "    print(f\"Test Accuracy: {eval_accuracy/nb_eval_steps}\")\n"
   ]
  },
  {
   "cell_type": "code",
   "execution_count": 13,
   "metadata": {},
   "outputs": [],
   "source": [
    "# Save the entire model\n",
    "torch.save(model, 'bert_model_full.pth')"
   ]
  }
 ],
 "metadata": {
  "kernelspec": {
   "display_name": "Python 3",
   "language": "python",
   "name": "python3"
  },
  "language_info": {
   "codemirror_mode": {
    "name": "ipython",
    "version": 3
   },
   "file_extension": ".py",
   "mimetype": "text/x-python",
   "name": "python",
   "nbconvert_exporter": "python",
   "pygments_lexer": "ipython3",
   "version": "3.11.5"
  }
 },
 "nbformat": 4,
 "nbformat_minor": 2
}
